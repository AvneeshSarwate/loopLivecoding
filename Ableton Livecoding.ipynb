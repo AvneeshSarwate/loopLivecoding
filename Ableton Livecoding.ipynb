{
 "cells": [
  {
   "cell_type": "code",
   "execution_count": null,
   "metadata": {},
   "outputs": [],
   "source": [
    "# from fh2 import FH2 \n",
    "# import fh2\n",
    "import copy\n",
    "import pickle\n",
    "from LFOFM import *\n",
    "import PydalChanel as pydalmodule\n",
    "from OSC import *\n",
    "import copy\n",
    "import PydalPreprocessor as preprocessor\n",
    "from PostProcessors import *\n",
    "\n",
    "wp = WavePlayer()\n",
    "# lp = FH2()\n",
    "\n",
    "def sendMsgSC(addr, *args):\n",
    "    msg = OSCMessage()\n",
    "    msg.setAddress(addr)\n",
    "    msg.append(args)\n",
    "    wp.superColliderClient.send(msg)\n",
    "\n",
    "flatten = lambda l: [item for sublist in l for item in sublist]\n",
    "buttonToLoopInd = flatten([[(j+1)*10+(i+1) for i in range(8)] for j in range(2, 8)])\n",
    "\n",
    "plotWave = wp.plotWave\n",
    "read = pydalmodule.read\n",
    "# callbacks = lp.buttonForwardingHandlers\n",
    "\n",
    "pydal = pydalmodule.getPydalInstance()\n",
    "\n",
    "pp = preprocessor.PydalPreprocessor(pydal.superColliderServer)\n",
    "pp.preprocessingSteps = [pp.chordFinder]\n",
    "\n",
    "end = pydal.end\n",
    "tempo = pydal.setTempo\n",
    "stripSymbols = lambda beats : map(lambda beat : list(beat[1])[0], beats)\n",
    "\n",
    "\n",
    "channels = {}\n",
    "for i in range(10):\n",
    "    channels[i] = pydal.newChannel(i)\n",
    "\n",
    "#cc - midicc num, dur - note duration, mc - midiChannel, pl - pattern length\n",
    "def midi(chanInd, patStr, cc=0, dur=.125, mc=0, pl=1): \n",
    "    if not chanInd in channels:\n",
    "        channels[chanInd] =  pydal.newChannel(chanInd)\n",
    "    if patStr == \"off\":\n",
    "        channels[chanInd].stop()\n",
    "    else:\n",
    "        midiPat = read(patStr, pl, symbolKey=\"midi\", preprocessor=pp)\n",
    "        channels[chanInd].play(midiPat, [mc, cc, dur])\n",
    "        return midiPat\n",
    "\n",
    "def osc(chanKey, patStr, pl=1):\n",
    "    if not chanKey in channels:\n",
    "        channels[chanKey] =  pydal.newChannel(chanKey)\n",
    "    if patStr == 'off':\n",
    "        channels[chanKey].stop()\n",
    "    else:\n",
    "        oscPat = read(patStr, pl, symbolKey=\"osc\")\n",
    "        channels[chanKey].play(oscPat, [chanKey])\n",
    "\n",
    "def ramp(chanKey, patStr, startVal, pl=1):\n",
    "    if not chanKey in channels:\n",
    "        channels[chanKey] =  pydal.newChannel(chanKey)\n",
    "    if patStr == 'off':\n",
    "        channels[chanKey].stop()\n",
    "    else:\n",
    "        oscPat = read(patStr, pl, symbolKey=\"ramp\", postProcessor=RampPostProcessor(startVal))\n",
    "        channels[chanKey].play(oscPat, [chanKey, startVal])\n",
    "            \n",
    "    \n",
    "def allOff():\n",
    "    for i in range(len(channels)):\n",
    "        midi(i, \"off\")\n",
    "        wp.stopWave(i)\n",
    "    \n",
    "pi=3.14159    \n",
    "print \"Setup Complete\"\n",
    "\n",
    "#need to start SC files masterTempoClock, PydalSC, and LFOFM,"
   ]
  },
  {
   "cell_type": "markdown",
   "metadata": {},
   "source": [
    "## Live Code Loops"
   ]
  },
  {
   "cell_type": "code",
   "execution_count": null,
   "metadata": {
    "collapsed": true
   },
   "outputs": [],
   "source": [
    "# loop1\n",
    "channels[0].play(read(\"bd:13 [bd:10 (bd:17, bd:10)] bd:1 [bd (bd:5, bd)]\", 2))\n",
    "# ch1.play(read(\"bd:5 [bd:7 (bd:9, bd:7)] bd:1 [bd (bd:5, bd)]\", 2))\n",
    "# ch1.play(read(\"bd:25 [bd:22 (bd:17, bd:10)] bd:1 [bd (bd:5, bd)]\", 2))\n",
    "# channels[1].play(read(\"hc [hc hc]\"))\n",
    "channels[2].play(read(\"[lt lt] lt\"))\n",
    "# ch3.play(read(\"[lt:3 lt:3] lt:3\"))"
   ]
  },
  {
   "cell_type": "markdown",
   "metadata": {},
   "source": [
    "### liveCodeLoop1 - Operator+Echo "
   ]
  },
  {
   "cell_type": "code",
   "execution_count": null,
   "metadata": {
    "collapsed": true
   },
   "outputs": [],
   "source": [
    "#loop 1\n",
    "tempo(100)\n",
    "midi(0, \"50*2 50*2 (55*2, 57*2)\", dur=0.15)\n",
    "midi(1, \"c50 c40 <c15, c65>\", cc=0)\n",
    "midi(2, \"[38, 42, 45] [38, 42, 47]\", dur=2, pl=4)\n",
    "wp.startWave(3, Sin(0.1)*10-30)"
   ]
  },
  {
   "cell_type": "markdown",
   "metadata": {},
   "source": [
    "### liveCodeLoop3 - Billie Eilish bad guy sample"
   ]
  },
  {
   "cell_type": "code",
   "execution_count": null,
   "metadata": {
    "collapsed": true
   },
   "outputs": [],
   "source": [
    "tempo(100)\n",
    "midi(0, \"50*2 50*2 (55*2, 57*2)\", dur=0.05)\n",
    "midi(1, \"c50 c40 <c15, c65>\", cc=0)\n",
    "midi(2, \"[38, 42, 45] [38, 42, 47]\", dur=2, pl=4)\n",
    "wp.startWave(1, Sin(0.1)*10-30)\n"
   ]
  },
  {
   "cell_type": "code",
   "execution_count": null,
   "metadata": {
    "collapsed": true
   },
   "outputs": [],
   "source": [
    "tempo(50)\n",
    "# midi(0, \"50*2 50*2 (55*2, 57*2)\", dur=0.05)\n",
    "# midi(1, \"c50 c40 <c15, c65>\", cc=0)\n",
    "midi(2, \"[38, 42, 45] [38, 42, 47]\", dur=2, pl=4)\n",
    "# wp.startWave(1, Sin(0.1)*10-30)"
   ]
  },
  {
   "cell_type": "code",
   "execution_count": null,
   "metadata": {
    "collapsed": true
   },
   "outputs": [],
   "source": [
    "midi(0, \"[50 55 (50, 55), 65 <65, 67>]\", pl=4, dur=1)\n",
    "midi(1, \"[c95 c95 (c95, c97), c105 <c105, c107>]\", pl=4, cc=2)\n",
    "midi(2, \"off\")\n",
    "midi(3, \"c65\", cc=0)\n",
    "wp.startWave(1, Sin(0.1)*10+Sqr(0.5)*40)"
   ]
  },
  {
   "cell_type": "code",
   "execution_count": null,
   "metadata": {
    "collapsed": true
   },
   "outputs": [],
   "source": [
    "midi(0, \"[50 50 (50, 52), 65 <65, 67>]\", pl=4, dur=1)\n",
    "midi(1, \"[c55 c55 (c55, c57), c65 <c65, c67>]\", pl=4, cc=0)\n",
    "midi(2, \"off\")\n",
    "wp.startWave(1, Sin(0.1)*10+Sqr(0.5)*40)"
   ]
  },
  {
   "cell_type": "code",
   "execution_count": null,
   "metadata": {
    "collapsed": true
   },
   "outputs": [],
   "source": [
    "midi(0, \"[50 50 (50, 52), 65 <65, 67>]\", pl=4, dur=1)\n",
    "midi(1, \"[c95 c95 (c95, c97), c105 <c105, c107>]\", pl=4, cc=2)\n",
    "midi(2, \"[38, 42, 45] [38, 42, 47]\", dur=2, pl=4)\n",
    "wp.startWave(1, Sin(0.1)*10+Sqr(0.5)*40)"
   ]
  },
  {
   "cell_type": "code",
   "execution_count": null,
   "metadata": {
    "collapsed": true
   },
   "outputs": [],
   "source": [
    "wp.startWave(5, Sin(0.1)*20+20)\n",
    "wp.startWave(6, Sin(0.13)*20+20)\n",
    "wp.startWave(7, Sin(0.17)*20+20)"
   ]
  },
  {
   "cell_type": "markdown",
   "metadata": {},
   "source": [
    "### liveCodeLoop4 tension+echo*3"
   ]
  },
  {
   "cell_type": "code",
   "execution_count": null,
   "metadata": {
    "collapsed": true
   },
   "outputs": [],
   "source": [
    "midi(0, \"[50 50 (50, 52), 65 <65, 67>]\", pl=4, dur=1)\n",
    "midi(1, \"65 <67, ~> 69 <70, ~>\")\n"
   ]
  },
  {
   "cell_type": "code",
   "execution_count": null,
   "metadata": {
    "collapsed": true
   },
   "outputs": [],
   "source": [
    "midi(0, \"[50 50 ~, 65*2 <55, 67>]\", pl=4, dur=1)"
   ]
  },
  {
   "cell_type": "code",
   "execution_count": null,
   "metadata": {
    "collapsed": true,
    "scrolled": true
   },
   "outputs": [],
   "source": [
    "allOff()"
   ]
  },
  {
   "cell_type": "markdown",
   "metadata": {
    "collapsed": true
   },
   "source": [
    "###  liveCodeLoop6 Analog Drums M4L + Drum Buss"
   ]
  },
  {
   "cell_type": "code",
   "execution_count": null,
   "metadata": {
    "collapsed": true
   },
   "outputs": [],
   "source": [
    "tempo(180)\n",
    "midi(0, \"[36, <<46, 46 46>, 42>*2]\")\n",
    "midi(1, \"[c40 c41 c42]\", pl=2, cc=0)\n",
    "midi(2, \"c30 c35 c40 40\", pl=16, cc=3)\n",
    "midi(3, \"<45, 45, 45*4 ~ <43*4, ~, ~> ~>  43 41\", pl=6)"
   ]
  },
  {
   "cell_type": "markdown",
   "metadata": {},
   "source": [
    "### liveCodeLoop7 Analog noise filter"
   ]
  },
  {
   "cell_type": "code",
   "execution_count": null,
   "metadata": {
    "collapsed": true
   },
   "outputs": [],
   "source": [
    "tempo(80)\n",
    "midi(0, \"63 [62 63] 60\")\n",
    "midi(1, \"48\", dur=.9)\n",
    "midi(2, \"43 41\", dur=.4)\n",
    "wp.startWave(0, Sin(0.17)*10)"
   ]
  },
  {
   "cell_type": "code",
   "execution_count": null,
   "metadata": {
    "collapsed": true
   },
   "outputs": [],
   "source": [
    "midi(1, \"off\", dur=.9)\n",
    "midi(2, \"off\", dur=.4)"
   ]
  },
  {
   "cell_type": "markdown",
   "metadata": {},
   "source": [
    "- play around with legato on/off, noise params, and filter1-to-filter2 ratio (current selections seem dece)\n",
    "- play with note-length"
   ]
  },
  {
   "cell_type": "code",
   "execution_count": null,
   "metadata": {
    "collapsed": true
   },
   "outputs": [],
   "source": [
    "allOff()"
   ]
  },
  {
   "cell_type": "markdown",
   "metadata": {},
   "source": [
    "### expander loop"
   ]
  },
  {
   "cell_type": "code",
   "execution_count": null,
   "metadata": {
    "scrolled": true
   },
   "outputs": [],
   "source": [
    "mp1 = midi(0, \"|55 55 55 <|60 [50 50] 60/,  |50 50/>/\", pl=1) "
   ]
  },
  {
   "cell_type": "code",
   "execution_count": null,
   "metadata": {},
   "outputs": [],
   "source": [
    "import PydalParser as prs\n",
    "t = prs.parse('lt lt lt <|hc [bd bd] hc/,  |hc hc/>')"
   ]
  },
  {
   "cell_type": "code",
   "execution_count": null,
   "metadata": {},
   "outputs": [],
   "source": [
    "renderList = mp1.render()\n",
    "\";\".join(str(t[0]) + \"-\" + \",\".join(t[1]) for t in renderList)"
   ]
  },
  {
   "cell_type": "code",
   "execution_count": null,
   "metadata": {},
   "outputs": [],
   "source": [
    "print t.render()\n",
    "print t.getDuration()"
   ]
  },
  {
   "cell_type": "code",
   "execution_count": null,
   "metadata": {},
   "outputs": [],
   "source": [
    "osc(\"/test\", \"off\")"
   ]
  },
  {
   "cell_type": "code",
   "execution_count": 1,
   "metadata": {},
   "outputs": [],
   "source": [
    "import PydalParser as prs\n",
    "from PostProcessors import *\n",
    "t = prs.parse('|.2 .9 .3/', 'ramp')\n",
    "post = RampPostProcessor(.2)"
   ]
  },
  {
   "cell_type": "code",
   "execution_count": 2,
   "metadata": {},
   "outputs": [
    {
     "ename": "IndexError",
     "evalue": "list index out of range",
     "output_type": "error",
     "traceback": [
      "\u001b[0;31m---------------------------------------------------------------------------\u001b[0m",
      "\u001b[0;31mIndexError\u001b[0m                                Traceback (most recent call last)",
      "\u001b[0;32m<ipython-input-2-bb3603367bfa>\u001b[0m in \u001b[0;36m<module>\u001b[0;34m()\u001b[0m\n\u001b[0;32m----> 1\u001b[0;31m \u001b[0mpost\u001b[0m\u001b[0;34m.\u001b[0m\u001b[0mprocess\u001b[0m\u001b[0;34m(\u001b[0m\u001b[0mt\u001b[0m\u001b[0;34m.\u001b[0m\u001b[0mrender\u001b[0m\u001b[0;34m(\u001b[0m\u001b[0;34m)\u001b[0m\u001b[0;34m)\u001b[0m\u001b[0;34m\u001b[0m\u001b[0m\n\u001b[0m",
      "\u001b[0;32m/Users/avneeshsarwate/loopLivecoding/PostProcessors.py\u001b[0m in \u001b[0;36mprocess\u001b[0;34m(self, renderList)\u001b[0m\n\u001b[1;32m     36\u001b[0m         \u001b[0mrenderList\u001b[0m\u001b[0;34m[\u001b[0m\u001b[0;36m0\u001b[0m\u001b[0;34m]\u001b[0m \u001b[0;34m=\u001b[0m \u001b[0;34m[\u001b[0m\u001b[0;36m0.01\u001b[0m\u001b[0;34m,\u001b[0m \u001b[0mrenderList\u001b[0m\u001b[0;34m[\u001b[0m\u001b[0;36m1\u001b[0m\u001b[0;34m]\u001b[0m\u001b[0;34m]\u001b[0m\u001b[0;34m\u001b[0m\u001b[0m\n\u001b[1;32m     37\u001b[0m         \u001b[0mrenderList\u001b[0m\u001b[0;34m.\u001b[0m\u001b[0minsert\u001b[0m\u001b[0;34m(\u001b[0m\u001b[0;36m0\u001b[0m\u001b[0;34m,\u001b[0m \u001b[0;34m(\u001b[0m\u001b[0;36m0\u001b[0m\u001b[0;34m,\u001b[0m \u001b[0mset\u001b[0m\u001b[0;34m(\u001b[0m\u001b[0;34m[\u001b[0m\u001b[0mself\u001b[0m\u001b[0;34m.\u001b[0m\u001b[0mstartVal\u001b[0m\u001b[0;34m]\u001b[0m\u001b[0;34m)\u001b[0m\u001b[0;34m)\u001b[0m\u001b[0;34m)\u001b[0m\u001b[0;34m\u001b[0m\u001b[0m\n\u001b[0;32m---> 38\u001b[0;31m         \u001b[0;32mreturn\u001b[0m \u001b[0mmakeDurationList\u001b[0m\u001b[0;34m(\u001b[0m\u001b[0mrenderList\u001b[0m\u001b[0;34m)\u001b[0m\u001b[0;34m\u001b[0m\u001b[0m\n\u001b[0m",
      "\u001b[0;32m/Users/avneeshsarwate/loopLivecoding/PostProcessors.py\u001b[0m in \u001b[0;36mmakeDurationList\u001b[0;34m(renderList)\u001b[0m\n\u001b[1;32m     17\u001b[0m     \u001b[0mgetDurSymbol\u001b[0m \u001b[0;34m=\u001b[0m \u001b[0;32mlambda\u001b[0m \u001b[0mh\u001b[0m\u001b[0;34m:\u001b[0m \u001b[0mset\u001b[0m\u001b[0;34m(\u001b[0m\u001b[0;34m[\u001b[0m\u001b[0mstr\u001b[0m\u001b[0;34m(\u001b[0m\u001b[0mrl\u001b[0m\u001b[0;34m[\u001b[0m\u001b[0mh\u001b[0m\u001b[0;34m]\u001b[0m\u001b[0;34m[\u001b[0m\u001b[0;36m1\u001b[0m\u001b[0;34m]\u001b[0m\u001b[0;34m)\u001b[0m\u001b[0;34m+\u001b[0m\u001b[0;34m'/'\u001b[0m\u001b[0;34m+\u001b[0m\u001b[0mstr\u001b[0m\u001b[0;34m(\u001b[0m\u001b[0mgetDur\u001b[0m\u001b[0;34m(\u001b[0m\u001b[0mh\u001b[0m\u001b[0;34m)\u001b[0m\u001b[0;34m)\u001b[0m\u001b[0;34m]\u001b[0m\u001b[0;34m)\u001b[0m \u001b[0;31m#symbol is now 'hitStr/dur'\u001b[0m\u001b[0;34m\u001b[0m\u001b[0m\n\u001b[1;32m     18\u001b[0m \u001b[0;34m\u001b[0m\u001b[0m\n\u001b[0;32m---> 19\u001b[0;31m     \u001b[0mnewList\u001b[0m \u001b[0;34m=\u001b[0m \u001b[0;34m[\u001b[0m\u001b[0;34m[\u001b[0m\u001b[0mrl\u001b[0m\u001b[0;34m[\u001b[0m\u001b[0mh\u001b[0m\u001b[0;34m]\u001b[0m\u001b[0;34m[\u001b[0m\u001b[0;36m0\u001b[0m\u001b[0;34m]\u001b[0m\u001b[0;34m,\u001b[0m \u001b[0mgetDurSymbol\u001b[0m\u001b[0;34m(\u001b[0m\u001b[0mh\u001b[0m\u001b[0;34m)\u001b[0m\u001b[0;34m]\u001b[0m \u001b[0;32mfor\u001b[0m \u001b[0mh\u001b[0m \u001b[0;32min\u001b[0m \u001b[0mnewHits\u001b[0m\u001b[0;34m]\u001b[0m\u001b[0;34m\u001b[0m\u001b[0m\n\u001b[0m\u001b[1;32m     20\u001b[0m     \u001b[0;32mreturn\u001b[0m \u001b[0mnewList\u001b[0m\u001b[0;34m\u001b[0m\u001b[0m\n\u001b[1;32m     21\u001b[0m \u001b[0;34m\u001b[0m\u001b[0m\n",
      "\u001b[0;32m/Users/avneeshsarwate/loopLivecoding/PostProcessors.py\u001b[0m in \u001b[0;36m<lambda>\u001b[0;34m(h)\u001b[0m\n\u001b[1;32m     15\u001b[0m         \u001b[0;32mreturn\u001b[0m \u001b[0mrl\u001b[0m\u001b[0;34m[\u001b[0m\u001b[0mhitInd\u001b[0m\u001b[0;34m+\u001b[0m\u001b[0mi\u001b[0m\u001b[0;34m]\u001b[0m\u001b[0;34m[\u001b[0m\u001b[0;36m0\u001b[0m\u001b[0;34m]\u001b[0m \u001b[0;34m-\u001b[0m \u001b[0mrl\u001b[0m\u001b[0;34m[\u001b[0m\u001b[0mhitInd\u001b[0m\u001b[0;34m]\u001b[0m\u001b[0;34m[\u001b[0m\u001b[0;36m0\u001b[0m\u001b[0;34m]\u001b[0m\u001b[0;34m\u001b[0m\u001b[0m\n\u001b[1;32m     16\u001b[0m \u001b[0;34m\u001b[0m\u001b[0m\n\u001b[0;32m---> 17\u001b[0;31m     \u001b[0mgetDurSymbol\u001b[0m \u001b[0;34m=\u001b[0m \u001b[0;32mlambda\u001b[0m \u001b[0mh\u001b[0m\u001b[0;34m:\u001b[0m \u001b[0mset\u001b[0m\u001b[0;34m(\u001b[0m\u001b[0;34m[\u001b[0m\u001b[0mstr\u001b[0m\u001b[0;34m(\u001b[0m\u001b[0mrl\u001b[0m\u001b[0;34m[\u001b[0m\u001b[0mh\u001b[0m\u001b[0;34m]\u001b[0m\u001b[0;34m[\u001b[0m\u001b[0;36m1\u001b[0m\u001b[0;34m]\u001b[0m\u001b[0;34m)\u001b[0m\u001b[0;34m+\u001b[0m\u001b[0;34m'/'\u001b[0m\u001b[0;34m+\u001b[0m\u001b[0mstr\u001b[0m\u001b[0;34m(\u001b[0m\u001b[0mgetDur\u001b[0m\u001b[0;34m(\u001b[0m\u001b[0mh\u001b[0m\u001b[0;34m)\u001b[0m\u001b[0;34m)\u001b[0m\u001b[0;34m]\u001b[0m\u001b[0;34m)\u001b[0m \u001b[0;31m#symbol is now 'hitStr/dur'\u001b[0m\u001b[0;34m\u001b[0m\u001b[0m\n\u001b[0m\u001b[1;32m     18\u001b[0m \u001b[0;34m\u001b[0m\u001b[0m\n\u001b[1;32m     19\u001b[0m     \u001b[0mnewList\u001b[0m \u001b[0;34m=\u001b[0m \u001b[0;34m[\u001b[0m\u001b[0;34m[\u001b[0m\u001b[0mrl\u001b[0m\u001b[0;34m[\u001b[0m\u001b[0mh\u001b[0m\u001b[0;34m]\u001b[0m\u001b[0;34m[\u001b[0m\u001b[0;36m0\u001b[0m\u001b[0;34m]\u001b[0m\u001b[0;34m,\u001b[0m \u001b[0mgetDurSymbol\u001b[0m\u001b[0;34m(\u001b[0m\u001b[0mh\u001b[0m\u001b[0;34m)\u001b[0m\u001b[0;34m]\u001b[0m \u001b[0;32mfor\u001b[0m \u001b[0mh\u001b[0m \u001b[0;32min\u001b[0m \u001b[0mnewHits\u001b[0m\u001b[0;34m]\u001b[0m\u001b[0;34m\u001b[0m\u001b[0m\n",
      "\u001b[0;32m/Users/avneeshsarwate/loopLivecoding/PostProcessors.py\u001b[0m in \u001b[0;36mgetDur\u001b[0;34m(hitInd)\u001b[0m\n\u001b[1;32m     11\u001b[0m     \u001b[0;32mdef\u001b[0m \u001b[0mgetDur\u001b[0m\u001b[0;34m(\u001b[0m\u001b[0mhitInd\u001b[0m\u001b[0;34m)\u001b[0m\u001b[0;34m:\u001b[0m\u001b[0;34m\u001b[0m\u001b[0m\n\u001b[1;32m     12\u001b[0m         \u001b[0mi\u001b[0m \u001b[0;34m=\u001b[0m \u001b[0;36m1\u001b[0m\u001b[0;34m\u001b[0m\u001b[0m\n\u001b[0;32m---> 13\u001b[0;31m         \u001b[0;32mwhile\u001b[0m \u001b[0mrl\u001b[0m\u001b[0;34m[\u001b[0m\u001b[0mhitInd\u001b[0m\u001b[0;34m+\u001b[0m\u001b[0mi\u001b[0m\u001b[0;34m]\u001b[0m \u001b[0;34m==\u001b[0m \u001b[0;34m'='\u001b[0m\u001b[0;34m:\u001b[0m\u001b[0;34m\u001b[0m\u001b[0m\n\u001b[0m\u001b[1;32m     14\u001b[0m             \u001b[0mi\u001b[0m \u001b[0;34m+=\u001b[0m \u001b[0;36m1\u001b[0m\u001b[0;34m\u001b[0m\u001b[0m\n\u001b[1;32m     15\u001b[0m         \u001b[0;32mreturn\u001b[0m \u001b[0mrl\u001b[0m\u001b[0;34m[\u001b[0m\u001b[0mhitInd\u001b[0m\u001b[0;34m+\u001b[0m\u001b[0mi\u001b[0m\u001b[0;34m]\u001b[0m\u001b[0;34m[\u001b[0m\u001b[0;36m0\u001b[0m\u001b[0;34m]\u001b[0m \u001b[0;34m-\u001b[0m \u001b[0mrl\u001b[0m\u001b[0;34m[\u001b[0m\u001b[0mhitInd\u001b[0m\u001b[0;34m]\u001b[0m\u001b[0;34m[\u001b[0m\u001b[0;36m0\u001b[0m\u001b[0;34m]\u001b[0m\u001b[0;34m\u001b[0m\u001b[0m\n",
      "\u001b[0;31mIndexError\u001b[0m: list index out of range"
     ]
    }
   ],
   "source": [
    "post.process(t.render())"
   ]
  },
  {
   "cell_type": "code",
   "execution_count": null,
   "metadata": {},
   "outputs": [],
   "source": [
    "ramp(\"/test\", \"|.2 .9 .3/\", .2)"
   ]
  },
  {
   "cell_type": "markdown",
   "metadata": {
    "collapsed": true
   },
   "source": [
    "### Sub37 Livecoding"
   ]
  },
  {
   "cell_type": "code",
   "execution_count": null,
   "metadata": {
    "collapsed": true
   },
   "outputs": [],
   "source": [
    "tempo(122)\n",
    "midi(0, \"48\", pl=1, dur=.1)"
   ]
  },
  {
   "cell_type": "code",
   "execution_count": null,
   "metadata": {},
   "outputs": [],
   "source": [
    "# midi(0, \"<48 48 ~ [53 55 <57, 49>], 72 72 72 72, 48 48 ~ [53 55 <57, 49>]>\", pl=2, dur=.4)\n",
    "midi(0, \"<48 48 ~ [53 55 <57, 49>], 72*4, 48 48 ~ [53 55 <57, 49>]>\", pl=.5, dur=.05)\n"
   ]
  },
  {
   "cell_type": "code",
   "execution_count": null,
   "metadata": {
    "collapsed": true
   },
   "outputs": [],
   "source": [
    "midi(1, \"c80 <c60, c100>\", pl=2, dur=.4, cc=18)\n",
    "midi(2, \"off\", pl=2, dur=.4, cc=19)"
   ]
  },
  {
   "cell_type": "code",
   "execution_count": null,
   "metadata": {
    "collapsed": true
   },
   "outputs": [],
   "source": [
    "# midi(1, \"off\", pl=4, cc=19)\n",
    "wp.startWave(19, Sin(.25)*20 + 20)\n",
    "wp.startWave(12, Sin(.5)*100 + 20)\n",
    "wp.startWave(13, Tri(.25)*65)\n",
    "wp.startWave(14, Sqr(.5)*65)\n",
    "wp.startWave(75, Sin(.25)*54)\n",
    "wp.startWave(74, Sin(.3)*70)\n",
    "wp.startWave(29, Sin(.25)*20)"
   ]
  },
  {
   "cell_type": "code",
   "execution_count": null,
   "metadata": {
    "collapsed": true
   },
   "outputs": [],
   "source": [
    "wp.startWave(9, Sin(.22)*40 + 60)"
   ]
  },
  {
   "cell_type": "code",
   "execution_count": null,
   "metadata": {
    "collapsed": true
   },
   "outputs": [],
   "source": [
    "wp.stopWave(29)"
   ]
  }
 ],
 "metadata": {
  "kernelspec": {
   "display_name": "Python 2",
   "language": "python",
   "name": "python2"
  },
  "language_info": {
   "codemirror_mode": {
    "name": "ipython",
    "version": 2
   },
   "file_extension": ".py",
   "mimetype": "text/x-python",
   "name": "python",
   "nbconvert_exporter": "python",
   "pygments_lexer": "ipython2",
   "version": "2.7.15"
  }
 },
 "nbformat": 4,
 "nbformat_minor": 2
}
